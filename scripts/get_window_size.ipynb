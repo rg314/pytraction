{
 "cells": [
  {
   "cell_type": "code",
   "execution_count": 93,
   "id": "positive-mexican",
   "metadata": {},
   "outputs": [],
   "source": [
    "from pytraction.core import TractionForce\n",
    "from pytraction.utils import plot\n",
    "\n",
    "from skimage import io\n",
    "import numpy as np\n",
    "import matplotlib.pyplot as plt\n",
    "\n",
    "# # # ######### Example 1\n",
    "pix_per_mu = 1.3\n",
    "E = 100 # Young's modulus in Pa\n",
    "\n",
    "img_path = '../data/example1/e01_pos1_axon1.tif'\n",
    "ref_path = '../data/example1/e01_pos1_axon1_ref.tif'\n",
    "\n",
    "traction_obj = TractionForce(pix_per_mu, E=E)\n",
    "img1, ref1, _ = traction_obj.load_data(img_path, ref_path)\n",
    "\n",
    "img_path = '../data/example2/1kPa-2-Position006.tif'\n",
    "ref_path = '../data/example2/1kPa-2-Position006_ref.tif'\n",
    "roi_path = '../data/example2/1kPa-2-Position006.roi'\n",
    "\n",
    "img2, ref2, roi = traction_obj.load_data(img_path, ref_path, roi_path)\n",
    "\n",
    "img_path_bead = '../data/example3/Beads3.tif'\n",
    "img_path_cell = '../data/example3/Cell3.tif'\n",
    "ref_path = '../data/example3/BeadsStop.tif'\n",
    "\n",
    "def z_project(img_path):\n",
    "        img = io.imread(img_path)\n",
    "        img_max= np.max(img, axis=0)\n",
    "        return img_max\n",
    "\n",
    "bead = z_project(img_path_bead)\n",
    "cell = z_project(img_path_cell)\n",
    "ref = z_project(ref_path)\n",
    "\n",
    "img = np.stack([[bead, cell]])\n",
    "ref = np.stack([ref, ref])\n",
    "\n",
    "io.imsave('../data/example3/tfm.tif', img)\n",
    "io.imsave('../data/example3/tfm-ref.tif', ref)\n",
    "\n",
    "\n",
    "img_path = '../data/example3/tfm.tif'\n",
    "ref_path = '../data/example3/tfm-ref.tif'\n",
    "\n",
    "traction_obj = TractionForce(pix_per_mu, E=E, segment=True, window_size=16)\n",
    "\n",
    "img3, ref3, roi = traction_obj.load_data(img_path, ref_path)"
   ]
  },
  {
   "cell_type": "code",
   "execution_count": 131,
   "id": "cross-crime",
   "metadata": {},
   "outputs": [],
   "source": [
    "import os\n",
    "def read_aki_data_stacks(folder):\n",
    "    files = glob.glob(f'{folder}/*.tif')\n",
    "\n",
    "    assert files\n",
    "\n",
    "    files = sorted(files)\n",
    "\n",
    "    def z_project(img):\n",
    "        img = io.imread(img)\n",
    "        img_max= np.max(img, axis=0)\n",
    "        return img_max\n",
    "\n",
    "    tzxy_stack = []\n",
    "    for file in files:\n",
    "        if 'start' not in file.lower() and 'stop' not in file.lower() and 'beads' in file.lower():\n",
    "            beads = file\n",
    "            cell = file.replace('Beads', 'Cell')\n",
    "            \n",
    "            assert os.path.exists(beads)\n",
    "            assert os.path.exists(cell)\n",
    "            \n",
    "\n",
    "            cell_z = io.imread(cell)[0,:,:]\n",
    "            beads_z = z_project(beads)\n",
    "\n",
    "            stack = np.stack([beads_z, cell_z])\n",
    "\n",
    "            tzxy_stack.append(stack)\n",
    "        \n",
    "        if 'stop' in file.lower() and 'beads' in file.lower():\n",
    "            beads = file\n",
    "            cell = file.replace('Beads', 'Cell')\n",
    "            \n",
    "            assert os.path.exists(beads)\n",
    "            assert os.path.exists(cell)\n",
    "            \n",
    "            print(cell, beads)\n",
    "\n",
    "            cell_z = z_project(cell)\n",
    "            beads_z = z_project(beads)\n",
    "\n",
    "            ref = np.stack([beads_z, cell_z])\n",
    "\n",
    "    img = np.stack(tzxy_stack)\n",
    "    return img, ref "
   ]
  },
  {
   "cell_type": "code",
   "execution_count": 96,
   "id": "dominant-impossible",
   "metadata": {},
   "outputs": [
    {
     "data": {
      "image/png": "[encoded data removed]",
      "text/plain": [
       "<Figure size 432x288 with 1 Axes>"
      ]
     },
     "metadata": {
      "needs_background": "light"
     },
     "output_type": "display_data"
    }
   ],
   "source": [
    "def density(img, window_size):\n",
    "    clahe_img = clahe(normalize(img))\n",
    "    norm = cv2.adaptiveThreshold(clahe_img,255,cv2.ADAPTIVE_THRESH_MEAN_C, cv2.THRESH_BINARY,5,2)/255\n",
    "    \n",
    "    ones = len(norm[norm == 1])\n",
    "    \n",
    "    area = img.shape[0]* img.shape[1]\n",
    "    area_beads = ones/area\n",
    "    \n",
    "    return area_beads\n",
    "\n",
    "\n",
    "x = [    \n",
    "density(img1[0,0,:,:], window_size=32),\n",
    "density(img2[0,0,:,:], window_size=64),\n",
    "density(img3[0,0,:,:], window_size=16),\n",
    "]\n",
    "\n",
    "y = [\n",
    "    32,64,16\n",
    "]\n",
    "\n",
    "plt.scatter(x,np.log2(y))\n",
    "plt.ylabel('Window size log2(window size)')\n",
    "plt.xlabel('Bead density [Area_bead/Area_Image]')\n",
    "\n",
    "plt.show()"
   ]
  },
  {
   "cell_type": "code",
   "execution_count": 101,
   "id": "united-migration",
   "metadata": {},
   "outputs": [],
   "source": [
    "def density(img, window_size):\n",
    "    clahe_img = clahe(normalize(img))\n",
    "    norm = cv2.adaptiveThreshold(clahe_img,255,cv2.ADAPTIVE_THRESH_MEAN_C, cv2.THRESH_BINARY,5,2)/255\n",
    "    \n",
    "    ones = len(norm[norm == 1])\n",
    "    \n",
    "    area = img.shape[0]* img.shape[1]\n",
    "    area_beads = ones/area\n",
    "    \n",
    "    return [area_beads, window_size]\n",
    "\n",
    "\n",
    "x1 = np.array([density(img1[i,0,:,:], window_size=32) for i in range(img1.shape[0])])\n",
    "x2 = np.array([density(img2[0,0,:,:], window_size=64) for i in range(img2.shape[0])])\n",
    "x3 = np.array([density(img3[0,0,:,:], window_size=16) for i in range(img3.shape[0])])\n"
   ]
  },
  {
   "cell_type": "code",
   "execution_count": 106,
   "id": "illegal-desperate",
   "metadata": {},
   "outputs": [],
   "source": [
    "x, y = np.concatenate([x1,x2,x3]).T"
   ]
  },
  {
   "cell_type": "code",
   "execution_count": 109,
   "id": "ongoing-divide",
   "metadata": {},
   "outputs": [
    {
     "data": {
      "image/png": "[encoded data removed]",
      "text/plain": [
       "<Figure size 432x288 with 1 Axes>"
      ]
     },
     "metadata": {
      "needs_background": "light"
     },
     "output_type": "display_data"
    }
   ],
   "source": [
    "for x0, y0 in zip(x,y):\n",
    "    plt.scatter(x0,np.log2(y0))\n",
    "\n",
    "plt.ylabel('Window size log2(window size)')\n",
    "plt.xlabel('Bead density [Area_bead/Area_Image]')\n",
    "\n",
    "plt.show()"
   ]
  },
  {
   "cell_type": "code",
   "execution_count": 185,
   "id": "electric-lewis",
   "metadata": {},
   "outputs": [],
   "source": [
    "files = glob.glob('../data/TFM/aki/*.tif')\n",
    "aki_ref = [x for x in files if '-ref' in x]\n",
    "xaki = []\n",
    "for ref_path in aki_ref:\n",
    "    img_path = ref_path.replace('-ref','')\n",
    "    \n",
    "    traction_obj = TractionForce(pix_per_mu, E=E)\n",
    "    img2, ref2, _ = traction_obj.load_data(img_path, ref_path)\n",
    "    \n",
    "    x1 = np.array([density(img2[i,0,:,:], window_size=16) for i in range(img2.shape[0])])\n",
    "    xaki.append(x1)\n",
    "    \n",
    "data1 = np.concatenate(xaki)\n",
    "\n",
    "files = glob.glob('../data/TFM/greenhalgh-pytraction-test-data/*Position*.tif')\n",
    "andrea_ref = [x for x in files if '-ref' in x]\n",
    "xandrea = []\n",
    "for ref_path in andrea_ref:\n",
    "    img_path = ref_path.replace('-ref','')\n",
    "    \n",
    "    traction_obj = TractionForce(pix_per_mu, E=E)\n",
    "    img1, ref1, _ = traction_obj.load_data(img_path, ref_path)\n",
    "    \n",
    "    x1 = np.array([density(img1[i,0,:,:], window_size=64) for i in range(img1.shape[0])])\n",
    "    xandrea.append(x1)\n",
    "\n",
    "data2 = np.concatenate(xandrea)\n",
    "    \n",
    "files = glob.glob('../data/TFM/axons/*.tif')\n",
    "ryan_ref = [x for x in files if '_ref' in x]\n",
    "xryan = []\n",
    "for ref_path in ryan_ref:\n",
    "    img_path = ref_path.replace('_ref','')\n",
    "    \n",
    "    \n",
    "    traction_obj = TractionForce(pix_per_mu, E=E)\n",
    "    img1, ref1, _ = traction_obj.load_data(img_path, ref_path)\n",
    "    \n",
    "    x1 = np.array([density(img1[i,0,:,:], window_size=32) for i in range(img1.shape[0])])\n",
    "    xryan.append(x1)\n",
    "\n",
    "data3 = np.concatenate(xryan)\n"
   ]
  },
  {
   "cell_type": "code",
   "execution_count": 186,
   "id": "shared-viking",
   "metadata": {},
   "outputs": [
    {
     "data": {
      "image/png": "[encoded data removed]",
      "text/plain": [
       "<Figure size 432x288 with 1 Axes>"
      ]
     },
     "metadata": {
      "needs_background": "light"
     },
     "output_type": "display_data"
    }
   ],
   "source": [
    "x, y = np.concatenate([data1,data2,data3]).T\n",
    "plt.scatter(x,np.log2(y))\n",
    "plt.ylabel('Window size log2(window size)')\n",
    "plt.xlabel('Bead density [Area_bead/Area_Image]')\n",
    "\n",
    "plt.show()"
   ]
  },
  {
   "cell_type": "code",
   "execution_count": 187,
   "id": "parliamentary-pharmaceutical",
   "metadata": {},
   "outputs": [
    {
     "data": {
      "text/plain": [
       "array([[ 7,  0,  0],\n",
       "       [ 0, 76,  0],\n",
       "       [ 0,  0,  5]])"
      ]
     },
     "execution_count": 187,
     "metadata": {},
     "output_type": "execute_result"
    }
   ],
   "source": [
    "from sklearn.neighbors import KNeighborsClassifier\n",
    "from sklearn.model_selection import train_test_split\n",
    "from sklearn.metrics import confusion_matrix\n",
    "\n",
    "X_train, X_test, y_train, y_test = train_test_split(x, y, test_size=0.33, random_state=42)\n",
    "\n",
    "X_train = [[x] for x in X_train]\n",
    "X_test = [[x] for x in X_test]\n",
    "\n",
    "X = [[a] for a in x]\n",
    "\n",
    "neigh = KNeighborsClassifier(n_neighbors=3)\n",
    "neigh.fit(X_train, y_train)\n",
    "\n",
    "y_pred = neigh.predict(X_test)\n",
    "confusion_matrix(y_test, y_pred)"
   ]
  },
  {
   "cell_type": "code",
   "execution_count": 189,
   "id": "vocational-former",
   "metadata": {},
   "outputs": [],
   "source": [
    "import pickle\n",
    "with open('nn_model.pickle', 'wb') as f:\n",
    "    pickle.dump(neigh, f)\n"
   ]
  },
  {
   "cell_type": "code",
   "execution_count": 177,
   "id": "native-warrior",
   "metadata": {},
   "outputs": [
    {
     "data": {
      "text/plain": [
       "<matplotlib.collections.PathCollection at 0x7f95d835e9a0>"
      ]
     },
     "execution_count": 177,
     "metadata": {},
     "output_type": "execute_result"
    },
    {
     "data": {
      "image/png": "[encoded data removed]",
      "text/plain": [
       "<Figure size 432x288 with 1 Axes>"
      ]
     },
     "metadata": {
      "needs_background": "light"
     },
     "output_type": "display_data"
    }
   ],
   "source": [
    "plt.scatter(X_test, y_test)\n",
    "plt.scatter(X_test, y_pred)\n"
   ]
  },
  {
   "cell_type": "code",
   "execution_count": 193,
   "id": "civilian-option",
   "metadata": {},
   "outputs": [
    {
     "data": {
      "text/plain": [
       "array([32.])"
      ]
     },
     "execution_count": 193,
     "metadata": {},
     "output_type": "execute_result"
    }
   ],
   "source": [
    "neigh.predict([[0.5078963156408809]])\n",
    "# X_test[0]"
   ]
  },
  {
   "cell_type": "code",
   "execution_count": null,
   "id": "attended-grill",
   "metadata": {},
   "outputs": [],
   "source": []
  }
 ],
 "metadata": {
  "kernelspec": {
   "display_name": "pytraction",
   "language": "python",
   "name": "pytraction"
  },
  "language_info": {
   "codemirror_mode": {
    "name": "ipython",
    "version": 3
   },
   "file_extension": ".py",
   "mimetype": "text/x-python",
   "name": "python",
   "nbconvert_exporter": "python",
   "pygments_lexer": "ipython3",
   "version": "3.8.8"
  }
 },
 "nbformat": 4,
 "nbformat_minor": 5
}
